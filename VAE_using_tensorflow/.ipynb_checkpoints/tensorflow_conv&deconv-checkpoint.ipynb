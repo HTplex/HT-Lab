{
 "cells": [
  {
   "cell_type": "code",
   "execution_count": 29,
   "metadata": {},
   "outputs": [],
   "source": [
    "import tensorflow as tf \n",
    "import numpy as np"
   ]
  },
  {
   "cell_type": "code",
   "execution_count": 38,
   "metadata": {},
   "outputs": [],
   "source": [
    "tf.reset_default_graph()\n",
    "def convolution(input_img):\n",
    "    conv_in = tf.placeholder(\n",
    "        dtype = tf.float32,\n",
    "        shape = [1, 5, 5,1],\n",
    "        name = \"conv_in\"\n",
    "    )\n",
    "    conv_out = tf.layers.conv2d(\n",
    "        inputs = conv_in,\n",
    "        filters = 1,\n",
    "        kernel_size = [3,3],\n",
    "        padding = \"valid\"\n",
    "    )\n",
    "    config = tf.ConfigProto()\n",
    "    config.gpu_options.allow_growth=True\n",
    "    sess = tf.Session(config=config)\n",
    "    sess.run(tf.global_variables_initializer())\n",
    "    return sess.run(conv_out, feed_dict =\n",
    "                    {conv_in: input_img})"
   ]
  },
  {
   "cell_type": "code",
   "execution_count": 39,
   "metadata": {},
   "outputs": [
    {
     "name": "stdout",
     "output_type": "stream",
     "text": [
      "[[[[ 0.9154582]\n",
      "   [ 0.9154582]\n",
      "   [ 0.9154582]]\n",
      "\n",
      "  [[ 0.9154582]\n",
      "   [ 0.9154582]\n",
      "   [ 0.9154582]]\n",
      "\n",
      "  [[ 0.9154582]\n",
      "   [ 0.9154582]\n",
      "   [ 0.9154582]]]]\n"
     ]
    }
   ],
   "source": [
    "input_img = np.array([[[[1],[1],[1],[1],[1]],\n",
    "                       [[1],[1],[1],[1],[1]],\n",
    "                       [[1],[1],[1],[1],[1]],\n",
    "                       [[1],[1],[1],[1],[1]],\n",
    "                       [[1],[1],[1],[1],[1]]]])\n",
    "print(convolution(input_img))"
   ]
  },
  {
   "cell_type": "code",
   "execution_count": null,
   "metadata": {},
   "outputs": [],
   "source": [
    "tf.reset_default_graph()\n",
    "def deconv(input_img):\n",
    "    conv_in = tf.placeholder(\n",
    "        dtype = tf.float32,\n",
    "        shape = [1, None, None,1],\n",
    "        name = \"conv_in\"\n",
    "    )\n",
    "    conv_out = tf.layers.conv2d(\n",
    "        inputs = conv_in,\n",
    "        filters = 1,\n",
    "        kernel_size = [3,3],\n",
    "        padding = \"valid\"\n",
    "    )\n",
    "    config = tf.ConfigProto()\n",
    "    config.gpu_options.allow_growth=True\n",
    "    sess = tf.Session(config=config)\n",
    "    sess.run(tf.global_variables_initializer())\n",
    "    return sess.run(conv_out, feed_dict =\n",
    "                    {conv_in: input_img})"
   ]
  },
  {
   "cell_type": "code",
   "execution_count": null,
   "metadata": {},
   "outputs": [],
   "source": []
  },
  {
   "cell_type": "code",
   "execution_count": null,
   "metadata": {},
   "outputs": [],
   "source": []
  }
 ],
 "metadata": {
  "kernelspec": {
   "display_name": "Python 3",
   "language": "python",
   "name": "python3"
  },
  "language_info": {
   "codemirror_mode": {
    "name": "ipython",
    "version": 3
   },
   "file_extension": ".py",
   "mimetype": "text/x-python",
   "name": "python",
   "nbconvert_exporter": "python",
   "pygments_lexer": "ipython3",
   "version": "3.6.4"
  }
 },
 "nbformat": 4,
 "nbformat_minor": 2
}
