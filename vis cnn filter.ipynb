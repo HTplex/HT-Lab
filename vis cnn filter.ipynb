{
 "cells": [
  {
   "cell_type": "code",
   "execution_count": 3,
   "metadata": {},
   "outputs": [],
   "source": [
    "# implement cnn using numpy"
   ]
  },
  {
   "cell_type": "code",
   "execution_count": 4,
   "metadata": {},
   "outputs": [],
   "source": [
    "import numpy as np\n",
    "def conv2(x, w, pad = 0, stride = 1,channel = 1):\n",
    "    p00 = np.arange(0,x.shape[0]-w.shape[0]+1,stride)\n",
    "    v00 = np.arange(0,x.shape[1]-w.shape[1]+1,stride)\n",
    "    conv = np.zeros([p00.shape[0],v00.shape[0],channel],dtype = np.float)\n",
    "    #x00 = x[p00][:,p00]\n",
    "    for i in range(w.shape[0]):\n",
    "        for j in range(w.shape[1]):\n",
    "            conv += x[p00+i][:, v00+j]*w[i][j]\n",
    "    return conv"
   ]
  },
  {
   "cell_type": "code",
   "execution_count": 7,
   "metadata": {},
   "outputs": [
    {
     "name": "stdout",
     "output_type": "stream",
     "text": [
      "(3024, 4032, 3)\n"
     ]
    }
   ],
   "source": [
    "import cv2\n",
    "import numpy as np\n",
    "pix = cv2.imread(\"phone.JPG\")\n",
    "print(pix.shape)"
   ]
  },
  {
   "cell_type": "code",
   "execution_count": 16,
   "metadata": {},
   "outputs": [],
   "source": [
    "x = pix\n",
    "w = np.array([[1,1,1],[1,-8,1],[1,1,1]])\n",
    "# w = np.array([[0,0,0],[0,1,0],[0,0,0]])\n",
    "conv_x = conv2(x, w, pad = 0, stride = 3,channel = 3)"
   ]
  },
  {
   "cell_type": "code",
   "execution_count": 17,
   "metadata": {},
   "outputs": [
    {
     "name": "stdout",
     "output_type": "stream",
     "text": [
      "(1008, 1344, 3)\n",
      "[135 135 131 ..., 126 134 134]\n"
     ]
    },
    {
     "data": {
      "text/plain": [
       "True"
      ]
     },
     "execution_count": 17,
     "metadata": {},
     "output_type": "execute_result"
    }
   ],
   "source": [
    "import matplotlib.pyplot as plt\n",
    "print(np.shape(conv_x))\n",
    "mi = np.min(conv_x)\n",
    "mx = np.max(conv_x)\n",
    "conv_x = conv_x-mi\n",
    "conv_x = conv_x/(mx-mi)\n",
    "conv_x = conv_x*255\n",
    "conv_x = conv_x.astype(np.uint8)\n",
    "print(conv_x[:,1,1])\n",
    "# conv_x = conv_x.reshape(conv_x.shape[2],conv_x.shape[0],conv_x.shape[1])\n",
    "# conv_x = np.transpose(conv_x,axes = [1,0,2])\n",
    "cv2.imwrite('phone_3.jpg', conv_x)\n",
    "# cv2.imshow(\"image\", conv_x)\n",
    "# cv2.waitKey()\n",
    "# plt.imshow(conv_x, interpolation='nearest')\n",
    "# plt.savefig(\"ts.pdf\")\n",
    "# plt.show()"
   ]
  },
  {
   "cell_type": "code",
   "execution_count": null,
   "metadata": {},
   "outputs": [],
   "source": []
  }
 ],
 "metadata": {
  "kernelspec": {
   "display_name": "Python 3",
   "language": "python",
   "name": "python3"
  },
  "language_info": {
   "codemirror_mode": {
    "name": "ipython",
    "version": 3
   },
   "file_extension": ".py",
   "mimetype": "text/x-python",
   "name": "python",
   "nbconvert_exporter": "python",
   "pygments_lexer": "ipython3",
   "version": "3.6.4"
  }
 },
 "nbformat": 4,
 "nbformat_minor": 2
}
