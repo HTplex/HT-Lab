{
 "cells": [
  {
   "cell_type": "code",
   "execution_count": 1,
   "metadata": {},
   "outputs": [],
   "source": [
    "import os\n",
    "import tarfile\n",
    "import urllib.request as url\n",
    "import numpy as np"
   ]
  },
  {
   "cell_type": "markdown",
   "metadata": {},
   "source": [
    "# download cifar\n",
    "check if CIFAR in directory, if not, download "
   ]
  },
  {
   "cell_type": "code",
   "execution_count": 2,
   "metadata": {},
   "outputs": [],
   "source": [
    "def download_data():\n",
    "    if not os.path.exists('.././data'):\n",
    "        os.mkdir('.././data')\n",
    "    if not os.path.exists('.././data/cifar-10-python.tar.gz'):\n",
    "        print(\"CIFAR-10 not found, downloading...\")\n",
    "        url.urlretrieve(\"https://www.cs.toronto.edu/~kriz/cifar-10-python.tar.gz\",\n",
    "                        \".././data/cifar-10-python.tar.gz\")\n",
    "        print(\"done\")\n",
    "        print(\"Download completed!\")\n",
    "    else:\n",
    "        print('CIFAR-10 already exists.')\n",
    "        \n",
    "# download_data()"
   ]
  },
  {
   "cell_type": "code",
   "execution_count": 6,
   "metadata": {},
   "outputs": [
    {
     "name": "stdout",
     "output_type": "stream",
     "text": [
      "['data_batch_1', 'data_batch_4', 'data_batch_3', 'data_batch_2', 'data_batch_5']\n",
      "(50000, 3072) (50000,)\n",
      "(10000, 3072) (10000,)\n"
     ]
    }
   ],
   "source": [
    "import glob\n",
    "import _pickle as pickle\n",
    "def load_data():\n",
    "    if not os.path.exists('.././data/cifar-10-python.tar.gz'):\n",
    "        download_data()\n",
    "    if not os.path.exists('.././data/cifar-10-batches-py/'):\n",
    "        print(\"extracting...\")\n",
    "        package = tarfile.open('.././data/cifar-10-python.tar.gz')\n",
    "        package.extractall('.././data')\n",
    "        package.close()\n",
    "        \n",
    "    root_dir = os.getcwd()\n",
    "    os.chdir('.././data/cifar-10-batches-py')\n",
    "    train_data = []\n",
    "    train_label = []\n",
    "    test_data = []\n",
    "    test_label = []\n",
    "    data_train = glob.glob('data_batch*')\n",
    "    print(data_train)\n",
    "    #try:\n",
    "    for name in data_train:\n",
    "        handle = open(name, 'rb')\n",
    "        cmap = pickle.load(handle, encoding='bytes')\n",
    "        train_data.append(cmap[b'data'])\n",
    "        train_label.append(cmap[b'labels'])\n",
    "        handle.close()\n",
    "    # Turn the dataset into numpy compatible arrays.\n",
    "    train_data = np.concatenate(train_data, axis=0)\n",
    "    train_label = np.concatenate(train_label)\n",
    "    handle = open('test_batch', 'rb')\n",
    "    cmap = pickle.load(handle, encoding='bytes')\n",
    "    test_data.append(cmap[b'data'])\n",
    "    test_label.append(cmap[b'labels'])\n",
    "    test_data = np.array(test_data[0])\n",
    "    test_label = np.array(test_label[0])\n",
    "    #except BaseException:\n",
    "#         os.chdir(root_dir)\n",
    "#         print('Something went wrong...')\n",
    "#         return None\n",
    "    os.chdir(root_dir)\n",
    "    return train_data,train_label,test_data,test_label\n",
    "\n",
    "train_data,train_label,test_data,test_label = load_data()\n",
    "val_size = 1000\n",
    "val_data = train_data[-1000:]\n",
    "val_label = train_label[-1000:]\n",
    "train_data = train_data[:-1000]\n",
    "train_label = train_label [:-1000]\n",
    "print(train_data.shape, train_label.shape)\n",
    "print(val_data.shape, val_label.shape)\n",
    "print(test_data.shape, test_label.shape)"
   ]
  },
  {
   "cell_type": "code",
   "execution_count": null,
   "metadata": {},
   "outputs": [],
   "source": [
    "\\"
   ]
  },
  {
   "cell_type": "markdown",
   "metadata": {},
   "source": [
    "# build neural network using tensorflow\n"
   ]
  },
  {
   "cell_type": "code",
   "execution_count": null,
   "metadata": {},
   "outputs": [],
   "source": []
  }
 ],
 "metadata": {
  "kernelspec": {
   "display_name": "Python 3",
   "language": "python",
   "name": "python3"
  },
  "language_info": {
   "codemirror_mode": {
    "name": "ipython",
    "version": 3
   },
   "file_extension": ".py",
   "mimetype": "text/x-python",
   "name": "python",
   "nbconvert_exporter": "python",
   "pygments_lexer": "ipython3",
   "version": "3.6.4"
  }
 },
 "nbformat": 4,
 "nbformat_minor": 2
}
